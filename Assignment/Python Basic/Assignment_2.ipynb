{
 "cells": [
  {
   "cell_type": "markdown",
   "id": "c1e7c9fd",
   "metadata": {},
   "source": [
    "# <p style=\"text-align: center;\">Python Basics - Assignment_2</p>"
   ]
  },
  {
   "cell_type": "markdown",
   "id": "ee953446",
   "metadata": {},
   "source": [
    "### Question 1\n",
    "What are the two values of the Boolean data type? How do you write them?\n",
    "#### Answer"
   ]
  },
  {
   "cell_type": "markdown",
   "id": "a6f25203",
   "metadata": {},
   "source": [
    "**True** and **False** are two values of Boolean data type. Both True and False, should have Captialized first character and rest of other charcters in lower case."
   ]
  },
  {
   "cell_type": "markdown",
   "id": "a9df5661",
   "metadata": {},
   "source": [
    "### Question 2\n",
    "What are the three different types of Boolean operators?\n",
    "#### Answer"
   ]
  },
  {
   "cell_type": "markdown",
   "id": "f0f861de",
   "metadata": {},
   "source": [
    "1. **AND**\n",
    "2. **OR**\n",
    "3. **NOT**"
   ]
  },
  {
   "cell_type": "markdown",
   "id": "6745cfc1",
   "metadata": {},
   "source": [
    "### Question 3\n",
    "Make a list of each Boolean operator's truth tables (i.e. every possible combination of Boolean values for the operator and what it evaluate ).\n",
    "#### Answer"
   ]
  },
  {
   "cell_type": "markdown",
   "id": "1104204e",
   "metadata": {},
   "source": [
    "`AND` - Truth Table\n",
    "\n",
    "|Bool Value of  A|Bool Value of B|Result of A AND B|\n",
    "|---| ---| ---| \n",
    "|True|True|True|\n",
    "|True|False|False|\n",
    "|False|True|False|\n",
    "|False|False|False|\n",
    "\n",
    "\n"
   ]
  },
  {
   "cell_type": "code",
   "execution_count": 1,
   "id": "b4ffeedd",
   "metadata": {},
   "outputs": [
    {
     "data": {
      "text/plain": [
       "[True, False, False, False]"
      ]
     },
     "execution_count": 1,
     "metadata": {},
     "output_type": "execute_result"
    }
   ],
   "source": [
    "L_AND = [True and True, True and False, False and True, False and False]\n",
    "L_AND"
   ]
  },
  {
   "cell_type": "markdown",
   "id": "0ed2b515",
   "metadata": {},
   "source": [
    "`OR` - Truth Table\n",
    "\n",
    "|Bool Value of  A|Bool Value of B|Result of A OR B|\n",
    "|---| ---| ---| \n",
    "|True|True|True|\n",
    "|True|False|True|\n",
    "|False|True|True|\n",
    "|False|False|False|"
   ]
  },
  {
   "cell_type": "code",
   "execution_count": 3,
   "id": "4af85684",
   "metadata": {},
   "outputs": [
    {
     "data": {
      "text/plain": [
       "[True, True, True, False]"
      ]
     },
     "execution_count": 3,
     "metadata": {},
     "output_type": "execute_result"
    }
   ],
   "source": [
    "L_OR = [True or True, True or False, False or True, False or False]\n",
    "L_OR"
   ]
  },
  {
   "cell_type": "markdown",
   "id": "0819fd8b",
   "metadata": {},
   "source": [
    "`Not` - Truth Table\n",
    "\n",
    "|Bool Value of  A|Result of Not A |\n",
    "|---| ---|\n",
    "|False|True|\n",
    "|True|False|\n"
   ]
  },
  {
   "cell_type": "code",
   "execution_count": 4,
   "id": "7bd5a3f8",
   "metadata": {},
   "outputs": [
    {
     "data": {
      "text/plain": [
       "[False, True]"
      ]
     },
     "execution_count": 4,
     "metadata": {},
     "output_type": "execute_result"
    }
   ],
   "source": [
    "L_NOT = [not True , not False]\n",
    "L_NOT"
   ]
  },
  {
   "cell_type": "markdown",
   "id": "fc0ef425",
   "metadata": {},
   "source": [
    "### Question 4\n",
    "What are the values of the following expressions? <br />\n",
    "(5 > 4) and (3 == 5)<br />\n",
    "not (5 > 4)<br />\n",
    "(5 > 4) or (3 == 5)<br />\n",
    "not ((5 > 4) or (3 == 5))<br />\n",
    "(True and True) and (True == False)<br />\n",
    "(not False) or (not True)<br />\n",
    "#### Answer"
   ]
  },
  {
   "cell_type": "code",
   "execution_count": 6,
   "id": "5a37f9c6",
   "metadata": {},
   "outputs": [
    {
     "name": "stdout",
     "output_type": "stream",
     "text": [
      "{'(5 > 4) and (3 == 5)': False, 'not (5 > 4)': False, '(5 > 4) or (3 == 5)': True, 'not ((5 > 4) or (3 == 5)': False, '(True and True) and (True == False)': False, '(not False) or (not True)': True}\n"
     ]
    }
   ],
   "source": [
    "print({\n",
    "    \"(5 > 4) and (3 == 5)\":(5 > 4) and (3 == 5),\n",
    "    \"not (5 > 4)\":not (5 > 4),\n",
    "    \"(5 > 4) or (3 == 5)\":(5 > 4) or (3 == 5),\n",
    "    \"not ((5 > 4) or (3 == 5)\":not ((5 > 4) or (3 == 5)),\n",
    "    \"(True and True) and (True == False)\":(True and True) and (True == False),\n",
    "    \"(not False) or (not True)\":(not False) or (not True)\n",
    "    })"
   ]
  },
  {
   "cell_type": "markdown",
   "id": "07ab8d04",
   "metadata": {},
   "source": [
    "### Question 5\n",
    "What are the six comparison operators?\n",
    "#### Answer"
   ]
  },
  {
   "cell_type": "markdown",
   "id": "87cfbe8f",
   "metadata": {},
   "source": [
    "**==** --> Equal to <br />\n",
    "**!=** --> Not Equal to <br />\n",
    "**<**  --> Lesser Than <br />\n",
    "**>**  --> Greater Than <br />\n",
    "**<=** --> Lesser than or Equal to <br /> \n",
    "**>=** --> Greater than or Equal to <br />"
   ]
  },
  {
   "cell_type": "markdown",
   "id": "219fff80",
   "metadata": {},
   "source": [
    "### Question 6\n",
    "How do you tell the difference between the equal to and assignment operators?Describe a condition and when you would use one.\n",
    "#### Answer"
   ]
  },
  {
   "cell_type": "markdown",
   "id": "5098f6d8",
   "metadata": {},
   "source": [
    "|\"=\"|\"==\"|\n",
    "|---| ---|\n",
    "|`=` is a assignament operator. |`==` is a comparison operator|"
   ]
  },
  {
   "cell_type": "code",
   "execution_count": 8,
   "id": "437661a7",
   "metadata": {},
   "outputs": [
    {
     "data": {
      "text/plain": [
       "False"
      ]
     },
     "execution_count": 8,
     "metadata": {},
     "output_type": "execute_result"
    }
   ],
   "source": [
    "# '=' is used to assign a Variable with Value\n",
    "Var1 = 1\n",
    "Var2 = 2\n",
    "# '==' is used to Compare variables\n",
    "Var1 == Var2\n"
   ]
  },
  {
   "cell_type": "markdown",
   "id": "ad639d40",
   "metadata": {},
   "source": [
    "### Question 7\n",
    "Identify the three blocks in this code: <br/>\n",
    "spam = 0<br/>\n",
    "if spam == 10:<br/>\n",
    "print('eggs')<br/>\n",
    "if spam > 5:<br/>\n",
    "print('bacon')<br/>\n",
    "else:<br/>\n",
    "print('ham')<br/>\n",
    "print('spam')<br/>\n",
    "print('spam')\n",
    "\n",
    "#### Answer"
   ]
  },
  {
   "cell_type": "code",
   "execution_count": 9,
   "id": "c6effdca",
   "metadata": {},
   "outputs": [
    {
     "name": "stdout",
     "output_type": "stream",
     "text": [
      "ham\n",
      "spam\n",
      "spam\n"
     ]
    }
   ],
   "source": [
    "spam = 0\n",
    "# Block 1 starts Here\n",
    "if spam == 10:\n",
    "    print('eggs')    #Block 1\n",
    "# Block 1 ends Here\n",
    "# Block 2 starts Here\n",
    "if spam > 5:\n",
    "    print('bacon')   #Block 2 \n",
    "# Block 2 ends Here\n",
    "# Block 3 starts Here\n",
    "else:\n",
    "    print('ham')\n",
    "    print('spam')\n",
    "    print('spam')    #Block 3\n",
    "# Block 3 ends Here\n"
   ]
  },
  {
   "cell_type": "markdown",
   "id": "3638ca3d",
   "metadata": {},
   "source": [
    "### Question 8\n",
    "Write code that prints Hello if 1 is stored in spam, prints Howdy if 2 is stored in spam, and prints Greetings! if anything else is stored in spam.\n",
    "#### Answer"
   ]
  },
  {
   "cell_type": "code",
   "execution_count": 10,
   "id": "51813a7f",
   "metadata": {},
   "outputs": [
    {
     "name": "stdout",
     "output_type": "stream",
     "text": [
      "Hello\n",
      "Howdy\n",
      "Greetings\n"
     ]
    }
   ],
   "source": [
    "def fun(num):\n",
    "    if num == 1:\n",
    "        print('Hello')\n",
    "    elif num == 2:\n",
    "        print('Howdy')\n",
    "    else:\n",
    "        print('Greetings')\n",
    "        \n",
    "fun(1)\n",
    "fun(2)\n",
    "fun(4)"
   ]
  },
  {
   "cell_type": "markdown",
   "id": "21c6a573",
   "metadata": {},
   "source": [
    "### Question 9\n",
    "If your programme is stuck in an endless loop, what keys you’ll press?\n",
    "#### Answer"
   ]
  },
  {
   "cell_type": "markdown",
   "id": "eec96e67",
   "metadata": {},
   "source": [
    "There is two ways to come out of the endless loop:\n",
    "1. Press **Ctrl + C** (Interrupt)\n",
    "2. Restart the Kernel (Only applicable to ipynb) "
   ]
  },
  {
   "cell_type": "markdown",
   "id": "8447d67f",
   "metadata": {},
   "source": [
    "### Question 10\n",
    "How can you tell the difference between break and continue?\n",
    "#### Answer\n"
   ]
  },
  {
   "cell_type": "markdown",
   "id": "494352ef",
   "metadata": {},
   "source": [
    "|\"break\"|\"continue\"|\n",
    "|---| ---|\n",
    "|`break` is a keyword used to exit loop |`continue` is a keyword used skip current iteration and continue the next iteration|"
   ]
  },
  {
   "cell_type": "markdown",
   "id": "bd63b3dc",
   "metadata": {},
   "source": [
    "### Question 11\n",
    "In a for loop, what is the difference between range(10), range(0, 10), and range(0, 10, 1)?\n",
    "#### Answer"
   ]
  },
  {
   "cell_type": "markdown",
   "id": "0ac1f4ff",
   "metadata": {},
   "source": [
    "There is **No Difference**"
   ]
  },
  {
   "cell_type": "code",
   "execution_count": 11,
   "id": "5212e32d",
   "metadata": {},
   "outputs": [
    {
     "name": "stdout",
     "output_type": "stream",
     "text": [
      "True\n"
     ]
    }
   ],
   "source": [
    "r1 = [i for i in range(10)]\n",
    "r2 = [i for i in range(0,10)]\n",
    "r3 = [i for i in range(0,10,1)]\n",
    "print(r1 == r2 == r3)"
   ]
  },
  {
   "cell_type": "markdown",
   "id": "1a663e88",
   "metadata": {},
   "source": [
    "### Question 12\n",
    "Write a short program that prints the numbers 1 to 10 using a for loop. Then write an equivalent program that prints the numbers 1 to 10 using a while loop.\n",
    "#### Answer"
   ]
  },
  {
   "cell_type": "code",
   "execution_count": 13,
   "id": "a9efd54a",
   "metadata": {},
   "outputs": [
    {
     "name": "stdout",
     "output_type": "stream",
     "text": [
      "From For Loop: 1 2 3 4 5 6 7 8 9 10 \n",
      "\n",
      "From While Loop: 1 2 3 4 5 6 7 8 9 10 "
     ]
    }
   ],
   "source": [
    "# for loop\n",
    "print(\"From For Loop:\",end = ' ')\n",
    "for i in range(1, 11):\n",
    "    print(i, end = ' ')\n",
    "    \n",
    "print(\"\\n\")\n",
    "\n",
    "# while loop \n",
    "i=1\n",
    "print(\"From While Loop:\",end = ' ')\n",
    "while i < 11:\n",
    "    print(i, end = ' ')\n",
    "    i += 1"
   ]
  },
  {
   "cell_type": "markdown",
   "id": "bb48bf8f",
   "metadata": {},
   "source": [
    "### Question 13\n",
    "If you had a function named bacon() inside a module named spam, how would you call it after importing spam?\n",
    "#### Answer"
   ]
  },
  {
   "cell_type": "markdown",
   "id": "d03b690f",
   "metadata": {},
   "source": [
    "The bacon function from spam module can be called with  command **spam.bacon()**"
   ]
  },
  {
   "cell_type": "code",
   "execution_count": null,
   "id": "2299ece2",
   "metadata": {},
   "outputs": [],
   "source": []
  }
 ],
 "metadata": {
  "kernelspec": {
   "display_name": "Python 3 (ipykernel)",
   "language": "python",
   "name": "python3"
  },
  "language_info": {
   "codemirror_mode": {
    "name": "ipython",
    "version": 3
   },
   "file_extension": ".py",
   "mimetype": "text/x-python",
   "name": "python",
   "nbconvert_exporter": "python",
   "pygments_lexer": "ipython3",
   "version": "3.9.7"
  }
 },
 "nbformat": 4,
 "nbformat_minor": 5
}
