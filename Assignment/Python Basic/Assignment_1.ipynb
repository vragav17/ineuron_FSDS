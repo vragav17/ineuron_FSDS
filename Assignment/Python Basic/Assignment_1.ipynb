{
 "cells": [
  {
   "cell_type": "markdown",
   "id": "527bdd99",
   "metadata": {},
   "source": [
    "# <p style=\"text-align: center;\">Python Basics - Assignment_1</p>\n"
   ]
  },
  {
   "cell_type": "markdown",
   "id": "51d9e661",
   "metadata": {},
   "source": [
    "### Question 1\n",
    "<p>1. In the below elements which of them are values or an expression? eg:- values can be integer or string and expressions will be mathematical operators.<p>\n",
    "<p>* <p>\n",
    "<p>'hello'<p>\n",
    "<p>-87.8<p>\n",
    "<p>- <p>\n",
    "<p>/ <p>\n",
    "<p>+<P>\n",
    "<p>6<p>\n",
    "    \n",
    "### Solution"
   ]
  },
  {
   "cell_type": "markdown",
   "id": "cae6e426",
   "metadata": {},
   "source": [
    "<p> <b>*</b>     is a <i> <b>expression</b></i> </p>\n",
    "\n",
    "<p><b>'hello'</b> is a <i><b>value</b></i><p>\n",
    "\n",
    "<p><b>-87.8</b>   is a <i><b>value</b></i><p>\n",
    "\n",
    "<p><b>-</b>       is a <i><b>expression</b></i><p>\n",
    "\n",
    "<p><b>/</b>      is a <i><b>expression</b></i><p>\n",
    "\n",
    "<p><b>+  </b>     is a <i><b>expression</b></i><p>\n",
    "\n",
    "<p><b>6  </b>     is a <i><b>value</b></i><p>"
   ]
  },
  {
   "cell_type": "markdown",
   "id": "1cc4cba6",
   "metadata": {},
   "source": [
    "### Question 2\n",
    "What is the difference between string and variable?\n",
    "### Solution"
   ]
  },
  {
   "cell_type": "markdown",
   "id": "67609ec6",
   "metadata": {},
   "source": [
    "|S.No.|String  | Variable|\n",
    "--- | --- | ---|\n",
    "|1|A String is a Built-in Data type in python.Usaully created by parsing the character values inside the quotes. |Variable is the name of location (id()) in the primary memory. Usaully created by sequence of meaningfull alphabets followed by \"=\".|\n",
    "|2|We can use literally any character inside a string.|For Variable, there few restrictions, like it cannot start with special character, cannot have space in between. We do have more to follow as per PEP 8|"
   ]
  },
  {
   "cell_type": "markdown",
   "id": "931cbe2b",
   "metadata": {},
   "source": [
    "### Question 3\n",
    "Describe three different data types.\n",
    "### Solution"
   ]
  },
  {
   "cell_type": "markdown",
   "id": "64f910f5",
   "metadata": {},
   "source": [
    "|S.No.|Data Type  |Python Class Name| Description|\n",
    "--- | --- | ---| --- |\n",
    "|1|integer|int()|The int datatype, which is used to hold whole number (Z) ie., without fractoral compenent. |\n",
    "|2|string|str()|The str datatype, which is used to hold Text value. Also, String is a sequence of Unicode character which makes them easy to slice, iterate. |\n",
    "|3|boolean|bool()|The bool datatype, which is used to compare two different variable or to check a variable contains any data or not. Comparison of variables can be done by use of operators.|\n"
   ]
  },
  {
   "cell_type": "markdown",
   "id": "f2f51c90",
   "metadata": {},
   "source": [
    "### Question 4\n",
    "What is an expression made up of? What do all expressions do?\n",
    "### Solution"
   ]
  },
  {
   "cell_type": "markdown",
   "id": "716c829a",
   "metadata": {},
   "source": [
    "Expression are made out of Resultant Variable, Variables, Constants and Operators.\n",
    "\n",
    "Expression is the empty railway track, where all data to be processed are passengers.So the railway track, takes passengers to expected designation by rail coach (Variables).\n",
    "\n",
    "Eg. \n",
    "X = 2Y + C    ---> Expression ----> Railway Track\n",
    "Y,C           ---> Variables  ----> Coach\n",
    "X             ---> Resultant  ----> Expected Designation\n",
    "\n",
    "Y = 2, C = 1  ---> Data       ----> Passanger\n",
    "\n",
    "In simple words, All expression will provide us a solution, by taking respective data.\n",
    "\n"
   ]
  },
  {
   "cell_type": "markdown",
   "id": "32849782",
   "metadata": {},
   "source": [
    "### Question 5\n",
    "This assignment statements, like spam = 10. What is the difference between an expression and a statement?\n",
    "### Solution"
   ]
  },
  {
   "cell_type": "markdown",
   "id": "ff082f64",
   "metadata": {},
   "source": [
    "|S.No.|Statement |Expression|\n",
    "|--- | --- | --- |\n",
    "|1|When a variable is assigned with a data, with or without involving mathematical operation is called statement.|When a variable is assigned with a set of other variables, with involving mathematical operation is called expression.|\n",
    "|2|eg. <br /> six = (12 / 2) | eg. <br /> six = (a/b) |\n",
    "\n",
    "\n"
   ]
  },
  {
   "cell_type": "markdown",
   "id": "ee512778",
   "metadata": {},
   "source": [
    "### Question 6\n",
    "After running the following code, what does the variable bacon contain? <br />\n",
    "bacon = 22 <br />\n",
    "bacon + 1<br />\n",
    "### Solution "
   ]
  },
  {
   "cell_type": "code",
   "execution_count": 11,
   "id": "a9587447",
   "metadata": {},
   "outputs": [
    {
     "data": {
      "text/plain": [
       "23"
      ]
     },
     "execution_count": 11,
     "metadata": {},
     "output_type": "execute_result"
    }
   ],
   "source": [
    "bacon = 22\n",
    "bacon + 1\n"
   ]
  },
  {
   "cell_type": "markdown",
   "id": "8ab2d1e8",
   "metadata": {},
   "source": [
    "### Question 7\n",
    "What should the values of the following two terms be? <br />\n",
    "'spam' + 'spamspam'<br />\n",
    "'spam' * 3 <br />\n",
    "### Solution"
   ]
  },
  {
   "cell_type": "code",
   "execution_count": 12,
   "id": "7c9910fd",
   "metadata": {},
   "outputs": [
    {
     "data": {
      "text/plain": [
       "'spamspamspam'"
      ]
     },
     "execution_count": 12,
     "metadata": {},
     "output_type": "execute_result"
    }
   ],
   "source": [
    "'spam' + 'spamspam'"
   ]
  },
  {
   "cell_type": "code",
   "execution_count": 13,
   "id": "72f4f6fe",
   "metadata": {},
   "outputs": [
    {
     "data": {
      "text/plain": [
       "'spamspamspam'"
      ]
     },
     "execution_count": 13,
     "metadata": {},
     "output_type": "execute_result"
    }
   ],
   "source": [
    "'spam' * 3"
   ]
  },
  {
   "cell_type": "code",
   "execution_count": 14,
   "id": "bac72337",
   "metadata": {},
   "outputs": [
    {
     "name": "stdout",
     "output_type": "stream",
     "text": [
      "They are Same\n"
     ]
    }
   ],
   "source": [
    "if 'spam' + 'spamspam' == 'spam' * 3:\n",
    "    print(\"They are Same\")\n",
    "else: \n",
    "    pritnt(\"They are not Same\")"
   ]
  },
  {
   "cell_type": "markdown",
   "id": "886a1a6a",
   "metadata": {},
   "source": [
    "### Question 8\n",
    "Why is eggs a valid variable name while 100 is invalid?\n",
    "### Solution"
   ]
  },
  {
   "cell_type": "code",
   "execution_count": 15,
   "id": "9a554a04",
   "metadata": {},
   "outputs": [
    {
     "ename": "SyntaxError",
     "evalue": "cannot assign to literal (Temp/ipykernel_19704/2714276545.py, line 1)",
     "output_type": "error",
     "traceback": [
      "\u001b[1;36m  File \u001b[1;32m\"C:\\Users\\VEERAR~1\\AppData\\Local\\Temp/ipykernel_19704/2714276545.py\"\u001b[1;36m, line \u001b[1;32m1\u001b[0m\n\u001b[1;33m    100 = \"eggs\"\u001b[0m\n\u001b[1;37m    ^\u001b[0m\n\u001b[1;31mSyntaxError\u001b[0m\u001b[1;31m:\u001b[0m cannot assign to literal\n"
     ]
    }
   ],
   "source": [
    "100 = \"eggs\""
   ]
  },
  {
   "cell_type": "markdown",
   "id": "591ac543",
   "metadata": {},
   "source": [
    "Python will throws <b><i><u>SyntaxError</u></i></b>  when we try to create variable name starting with Numbers and special character in anywhere in the name (Execept' _ ' )."
   ]
  },
  {
   "cell_type": "markdown",
   "id": "687bb0aa",
   "metadata": {},
   "source": [
    "### Question 9\n",
    "What three functions can be used to get the integer, floating-point number, or string version of a value?\n",
    "### Solution "
   ]
  },
  {
   "cell_type": "markdown",
   "id": "592d6f9a",
   "metadata": {},
   "source": [
    "|S.No.|Data Version |Function|\n",
    "|--- | --- | --- |\n",
    "|1|Integer|int()|\n",
    "|2|Floating-Poit Number|float()|\n",
    "|3|String|str()|"
   ]
  },
  {
   "cell_type": "code",
   "execution_count": 17,
   "id": "cee89455",
   "metadata": {},
   "outputs": [
    {
     "data": {
      "text/plain": [
       "8"
      ]
     },
     "execution_count": 17,
     "metadata": {},
     "output_type": "execute_result"
    }
   ],
   "source": [
    "int(8)"
   ]
  },
  {
   "cell_type": "code",
   "execution_count": 18,
   "id": "aba95888",
   "metadata": {},
   "outputs": [
    {
     "data": {
      "text/plain": [
       "8.0"
      ]
     },
     "execution_count": 18,
     "metadata": {},
     "output_type": "execute_result"
    }
   ],
   "source": [
    "float(8)"
   ]
  },
  {
   "cell_type": "code",
   "execution_count": 19,
   "id": "6fd4c04b",
   "metadata": {},
   "outputs": [
    {
     "data": {
      "text/plain": [
       "'8'"
      ]
     },
     "execution_count": 19,
     "metadata": {},
     "output_type": "execute_result"
    }
   ],
   "source": [
    "str(8)"
   ]
  },
  {
   "cell_type": "markdown",
   "id": "0792b904",
   "metadata": {},
   "source": [
    "### Question 10\n",
    "Why does this expression cause an error? How can you fix it? <br />\n",
    "'I have eaten ' + 99 + ' burritos.'\n",
    "### Solution"
   ]
  },
  {
   "cell_type": "code",
   "execution_count": 20,
   "id": "d2670115",
   "metadata": {},
   "outputs": [
    {
     "ename": "TypeError",
     "evalue": "can only concatenate str (not \"int\") to str",
     "output_type": "error",
     "traceback": [
      "\u001b[1;31m---------------------------------------------------------------------------\u001b[0m",
      "\u001b[1;31mTypeError\u001b[0m                                 Traceback (most recent call last)",
      "\u001b[1;32mC:\\Users\\VEERAR~1\\AppData\\Local\\Temp/ipykernel_19704/1774935878.py\u001b[0m in \u001b[0;36m<module>\u001b[1;34m\u001b[0m\n\u001b[1;32m----> 1\u001b[1;33m \u001b[1;34m'I have eaten '\u001b[0m \u001b[1;33m+\u001b[0m \u001b[1;36m99\u001b[0m \u001b[1;33m+\u001b[0m \u001b[1;34m' burritos.'\u001b[0m\u001b[1;33m\u001b[0m\u001b[1;33m\u001b[0m\u001b[0m\n\u001b[0m",
      "\u001b[1;31mTypeError\u001b[0m: can only concatenate str (not \"int\") to str"
     ]
    }
   ],
   "source": [
    "'I have eaten ' + 99 + ' burritos.'"
   ]
  },
  {
   "cell_type": "markdown",
   "id": "4dbc50e3",
   "metadata": {},
   "source": [
    "We are trying to concatenate a string with integer, which caused a TypeError. In order to fix TypeError, we can <b><i><u>Type Cast</u></i></b> int datatype to a str datatype. "
   ]
  },
  {
   "cell_type": "code",
   "execution_count": 21,
   "id": "ac8ab934",
   "metadata": {},
   "outputs": [
    {
     "data": {
      "text/plain": [
       "'I have eaten 99 burritos.'"
      ]
     },
     "execution_count": 21,
     "metadata": {},
     "output_type": "execute_result"
    }
   ],
   "source": [
    "'I have eaten ' + str(99) + ' burritos.'"
   ]
  }
 ],
 "metadata": {
  "kernelspec": {
   "display_name": "Python 3 (ipykernel)",
   "language": "python",
   "name": "python3"
  },
  "language_info": {
   "codemirror_mode": {
    "name": "ipython",
    "version": 3
   },
   "file_extension": ".py",
   "mimetype": "text/x-python",
   "name": "python",
   "nbconvert_exporter": "python",
   "pygments_lexer": "ipython3",
   "version": "3.9.7"
  }
 },
 "nbformat": 4,
 "nbformat_minor": 5
}
